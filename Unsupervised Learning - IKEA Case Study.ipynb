{
 "cells": [
  {
   "cell_type": "code",
   "execution_count": 2,
   "metadata": {},
   "outputs": [],
   "source": [
    "import pandas as pd\n",
    "import numpy as np\n",
    "import seaborn as sns\n",
    "from matplotlib import pyplot as plt\n",
    "import heapq\n",
    "import sklearn\n",
    "from sklearn.cluster import KMeans\n",
    "from mpl_toolkits.mplot3d import Axes3D\n",
    "from sklearn.preprocessing import scale\n",
    "from sklearn.preprocessing import StandardScaler\n",
    "from sklearn.preprocessing import MinMaxScaler\n",
    "from sklearn.decomposition import PCA\n",
    "\n",
    "import sklearn.metrics as sm\n",
    "from sklearn.metrics import confusion_matrix,classification_report\n",
    "import os\n",
    "os.chdir('D:\\Python Directory\\Jupyter')"
   ]
  },
  {
   "cell_type": "code",
   "execution_count": 3,
   "metadata": {},
   "outputs": [
    {
     "data": {
      "text/html": [
       "<div>\n",
       "<style scoped>\n",
       "    .dataframe tbody tr th:only-of-type {\n",
       "        vertical-align: middle;\n",
       "    }\n",
       "\n",
       "    .dataframe tbody tr th {\n",
       "        vertical-align: top;\n",
       "    }\n",
       "\n",
       "    .dataframe thead th {\n",
       "        text-align: right;\n",
       "    }\n",
       "</style>\n",
       "<table border=\"1\" class=\"dataframe\">\n",
       "  <thead>\n",
       "    <tr style=\"text-align: right;\">\n",
       "      <th></th>\n",
       "      <th>Kommun_code</th>\n",
       "      <th>Year</th>\n",
       "      <th>Kommun_name</th>\n",
       "      <th>Revenue</th>\n",
       "      <th>Employee</th>\n",
       "      <th>Population</th>\n",
       "      <th>Population_University</th>\n",
       "      <th>Percent_University</th>\n",
       "      <th>Productivity</th>\n",
       "      <th>SalesIndex</th>\n",
       "      <th>Infrast</th>\n",
       "      <th>Border</th>\n",
       "    </tr>\n",
       "  </thead>\n",
       "  <tbody>\n",
       "    <tr>\n",
       "      <th>0</th>\n",
       "      <td>2583</td>\n",
       "      <td>2010</td>\n",
       "      <td>Haparanda</td>\n",
       "      <td>1078</td>\n",
       "      <td>276</td>\n",
       "      <td>10059</td>\n",
       "      <td>719</td>\n",
       "      <td>0.071478</td>\n",
       "      <td>195.74174</td>\n",
       "      <td>111.075774</td>\n",
       "      <td>0</td>\n",
       "      <td>1</td>\n",
       "    </tr>\n",
       "    <tr>\n",
       "      <th>1</th>\n",
       "      <td>880</td>\n",
       "      <td>2010</td>\n",
       "      <td>Kalmar</td>\n",
       "      <td>3790</td>\n",
       "      <td>1621</td>\n",
       "      <td>62815</td>\n",
       "      <td>8716</td>\n",
       "      <td>0.138757</td>\n",
       "      <td>117.17365</td>\n",
       "      <td>390.516869</td>\n",
       "      <td>0</td>\n",
       "      <td>0</td>\n",
       "    </tr>\n",
       "    <tr>\n",
       "      <th>2</th>\n",
       "      <td>1780</td>\n",
       "      <td>2010</td>\n",
       "      <td>Karlstad</td>\n",
       "      <td>4560</td>\n",
       "      <td>1910</td>\n",
       "      <td>85753</td>\n",
       "      <td>13308</td>\n",
       "      <td>0.155190</td>\n",
       "      <td>119.64794</td>\n",
       "      <td>469.856708</td>\n",
       "      <td>0</td>\n",
       "      <td>0</td>\n",
       "    </tr>\n",
       "    <tr>\n",
       "      <th>3</th>\n",
       "      <td>114</td>\n",
       "      <td>2010</td>\n",
       "      <td>Upplands Väsby</td>\n",
       "      <td>1366</td>\n",
       "      <td>708</td>\n",
       "      <td>39289</td>\n",
       "      <td>4419</td>\n",
       "      <td>0.112474</td>\n",
       "      <td>96.69215</td>\n",
       "      <td>140.750935</td>\n",
       "      <td>0</td>\n",
       "      <td>0</td>\n",
       "    </tr>\n",
       "    <tr>\n",
       "      <th>4</th>\n",
       "      <td>115</td>\n",
       "      <td>2010</td>\n",
       "      <td>Vallentuna</td>\n",
       "      <td>171</td>\n",
       "      <td>99</td>\n",
       "      <td>30114</td>\n",
       "      <td>3843</td>\n",
       "      <td>0.127615</td>\n",
       "      <td>86.56347</td>\n",
       "      <td>17.619627</td>\n",
       "      <td>0</td>\n",
       "      <td>0</td>\n",
       "    </tr>\n",
       "    <tr>\n",
       "      <th>5</th>\n",
       "      <td>117</td>\n",
       "      <td>2010</td>\n",
       "      <td>Österåker</td>\n",
       "      <td>563</td>\n",
       "      <td>314</td>\n",
       "      <td>39521</td>\n",
       "      <td>5011</td>\n",
       "      <td>0.126793</td>\n",
       "      <td>89.85712</td>\n",
       "      <td>58.010817</td>\n",
       "      <td>0</td>\n",
       "      <td>0</td>\n",
       "    </tr>\n",
       "    <tr>\n",
       "      <th>6</th>\n",
       "      <td>120</td>\n",
       "      <td>2010</td>\n",
       "      <td>Värmdö</td>\n",
       "      <td>920</td>\n",
       "      <td>454</td>\n",
       "      <td>38301</td>\n",
       "      <td>4720</td>\n",
       "      <td>0.123234</td>\n",
       "      <td>101.55604</td>\n",
       "      <td>94.795652</td>\n",
       "      <td>0</td>\n",
       "      <td>0</td>\n",
       "    </tr>\n",
       "    <tr>\n",
       "      <th>7</th>\n",
       "      <td>123</td>\n",
       "      <td>2010</td>\n",
       "      <td>Järfälla</td>\n",
       "      <td>5119</td>\n",
       "      <td>2001</td>\n",
       "      <td>66211</td>\n",
       "      <td>9009</td>\n",
       "      <td>0.136065</td>\n",
       "      <td>128.20702</td>\n",
       "      <td>527.455371</td>\n",
       "      <td>0</td>\n",
       "      <td>0</td>\n",
       "    </tr>\n",
       "    <tr>\n",
       "      <th>8</th>\n",
       "      <td>125</td>\n",
       "      <td>2010</td>\n",
       "      <td>Ekerö</td>\n",
       "      <td>144</td>\n",
       "      <td>116</td>\n",
       "      <td>25410</td>\n",
       "      <td>3893</td>\n",
       "      <td>0.153207</td>\n",
       "      <td>62.21259</td>\n",
       "      <td>14.837580</td>\n",
       "      <td>0</td>\n",
       "      <td>0</td>\n",
       "    </tr>\n",
       "    <tr>\n",
       "      <th>9</th>\n",
       "      <td>126</td>\n",
       "      <td>2010</td>\n",
       "      <td>Huddinge</td>\n",
       "      <td>7153</td>\n",
       "      <td>2374</td>\n",
       "      <td>97453</td>\n",
       "      <td>12795</td>\n",
       "      <td>0.131294</td>\n",
       "      <td>151.00150</td>\n",
       "      <td>737.036192</td>\n",
       "      <td>0</td>\n",
       "      <td>0</td>\n",
       "    </tr>\n",
       "  </tbody>\n",
       "</table>\n",
       "</div>"
      ],
      "text/plain": [
       "   Kommun_code  Year     Kommun_name  Revenue  Employee  Population  \\\n",
       "0         2583  2010       Haparanda     1078       276       10059   \n",
       "1          880  2010          Kalmar     3790      1621       62815   \n",
       "2         1780  2010        Karlstad     4560      1910       85753   \n",
       "3          114  2010  Upplands Väsby     1366       708       39289   \n",
       "4          115  2010      Vallentuna      171        99       30114   \n",
       "5          117  2010       Österåker      563       314       39521   \n",
       "6          120  2010          Värmdö      920       454       38301   \n",
       "7          123  2010        Järfälla     5119      2001       66211   \n",
       "8          125  2010           Ekerö      144       116       25410   \n",
       "9          126  2010        Huddinge     7153      2374       97453   \n",
       "\n",
       "   Population_University  Percent_University  Productivity  SalesIndex  \\\n",
       "0                    719            0.071478     195.74174  111.075774   \n",
       "1                   8716            0.138757     117.17365  390.516869   \n",
       "2                  13308            0.155190     119.64794  469.856708   \n",
       "3                   4419            0.112474      96.69215  140.750935   \n",
       "4                   3843            0.127615      86.56347   17.619627   \n",
       "5                   5011            0.126793      89.85712   58.010817   \n",
       "6                   4720            0.123234     101.55604   94.795652   \n",
       "7                   9009            0.136065     128.20702  527.455371   \n",
       "8                   3893            0.153207      62.21259   14.837580   \n",
       "9                  12795            0.131294     151.00150  737.036192   \n",
       "\n",
       "   Infrast  Border  \n",
       "0        0       1  \n",
       "1        0       0  \n",
       "2        0       0  \n",
       "3        0       0  \n",
       "4        0       0  \n",
       "5        0       0  \n",
       "6        0       0  \n",
       "7        0       0  \n",
       "8        0       0  \n",
       "9        0       0  "
      ]
     },
     "execution_count": 3,
     "metadata": {},
     "output_type": "execute_result"
    }
   ],
   "source": [
    "ikea_ds = pd.read_csv(\"ikea_ds.csv\")\n",
    "ikea_ds.head(10)"
   ]
  },
  {
   "cell_type": "code",
   "execution_count": 96,
   "metadata": {},
   "outputs": [
    {
     "name": "stdout",
     "output_type": "stream",
     "text": [
      "<class 'pandas.core.frame.DataFrame'>\n",
      "RangeIndex: 207 entries, 0 to 206\n",
      "Data columns (total 12 columns):\n",
      " #   Column                 Non-Null Count  Dtype  \n",
      "---  ------                 --------------  -----  \n",
      " 0   Kommun_code            207 non-null    int64  \n",
      " 1   Year                   207 non-null    int64  \n",
      " 2   Kommun_name            207 non-null    object \n",
      " 3   Revenue                207 non-null    int64  \n",
      " 4   Employee               207 non-null    int64  \n",
      " 5   Population             207 non-null    int64  \n",
      " 6   Population_University  207 non-null    int64  \n",
      " 7   Percent_University     207 non-null    float64\n",
      " 8   Productivity           207 non-null    float64\n",
      " 9   SalesIndex             207 non-null    float64\n",
      " 10  Infrast                207 non-null    int64  \n",
      " 11  Border                 207 non-null    int64  \n",
      "dtypes: float64(3), int64(8), object(1)\n",
      "memory usage: 19.5+ KB\n"
     ]
    }
   ],
   "source": [
    "ikea_ds.info()"
   ]
  },
  {
   "cell_type": "code",
   "execution_count": 4,
   "metadata": {},
   "outputs": [
    {
     "data": {
      "text/plain": [
       "Kommun_code              0\n",
       "Year                     0\n",
       "Kommun_name              0\n",
       "Revenue                  0\n",
       "Employee                 0\n",
       "Population               0\n",
       "Population_University    0\n",
       "Percent_University       0\n",
       "Productivity             0\n",
       "SalesIndex               0\n",
       "Infrast                  0\n",
       "Border                   0\n",
       "dtype: int64"
      ]
     },
     "execution_count": 4,
     "metadata": {},
     "output_type": "execute_result"
    }
   ],
   "source": [
    "mv = ikea_ds.isnull().sum()\n",
    "mv"
   ]
  },
  {
   "cell_type": "code",
   "execution_count": 4,
   "metadata": {},
   "outputs": [
    {
     "data": {
      "text/html": [
       "<div>\n",
       "<style scoped>\n",
       "    .dataframe tbody tr th:only-of-type {\n",
       "        vertical-align: middle;\n",
       "    }\n",
       "\n",
       "    .dataframe tbody tr th {\n",
       "        vertical-align: top;\n",
       "    }\n",
       "\n",
       "    .dataframe thead th {\n",
       "        text-align: right;\n",
       "    }\n",
       "</style>\n",
       "<table border=\"1\" class=\"dataframe\">\n",
       "  <thead>\n",
       "    <tr style=\"text-align: right;\">\n",
       "      <th></th>\n",
       "      <th>Revenue</th>\n",
       "      <th>Employee</th>\n",
       "      <th>Population</th>\n",
       "      <th>Population_University</th>\n",
       "      <th>Percent_University</th>\n",
       "      <th>Productivity</th>\n",
       "      <th>SalesIndex</th>\n",
       "    </tr>\n",
       "  </thead>\n",
       "  <tbody>\n",
       "    <tr>\n",
       "      <th>0</th>\n",
       "      <td>1078</td>\n",
       "      <td>276</td>\n",
       "      <td>10059</td>\n",
       "      <td>719</td>\n",
       "      <td>0.071478</td>\n",
       "      <td>195.74174</td>\n",
       "      <td>111.075774</td>\n",
       "    </tr>\n",
       "    <tr>\n",
       "      <th>1</th>\n",
       "      <td>3790</td>\n",
       "      <td>1621</td>\n",
       "      <td>62815</td>\n",
       "      <td>8716</td>\n",
       "      <td>0.138757</td>\n",
       "      <td>117.17365</td>\n",
       "      <td>390.516869</td>\n",
       "    </tr>\n",
       "    <tr>\n",
       "      <th>2</th>\n",
       "      <td>4560</td>\n",
       "      <td>1910</td>\n",
       "      <td>85753</td>\n",
       "      <td>13308</td>\n",
       "      <td>0.155190</td>\n",
       "      <td>119.64794</td>\n",
       "      <td>469.856708</td>\n",
       "    </tr>\n",
       "    <tr>\n",
       "      <th>3</th>\n",
       "      <td>1366</td>\n",
       "      <td>708</td>\n",
       "      <td>39289</td>\n",
       "      <td>4419</td>\n",
       "      <td>0.112474</td>\n",
       "      <td>96.69215</td>\n",
       "      <td>140.750935</td>\n",
       "    </tr>\n",
       "    <tr>\n",
       "      <th>4</th>\n",
       "      <td>171</td>\n",
       "      <td>99</td>\n",
       "      <td>30114</td>\n",
       "      <td>3843</td>\n",
       "      <td>0.127615</td>\n",
       "      <td>86.56347</td>\n",
       "      <td>17.619627</td>\n",
       "    </tr>\n",
       "  </tbody>\n",
       "</table>\n",
       "</div>"
      ],
      "text/plain": [
       "   Revenue  Employee  Population  Population_University  Percent_University  \\\n",
       "0     1078       276       10059                    719            0.071478   \n",
       "1     3790      1621       62815                   8716            0.138757   \n",
       "2     4560      1910       85753                  13308            0.155190   \n",
       "3     1366       708       39289                   4419            0.112474   \n",
       "4      171        99       30114                   3843            0.127615   \n",
       "\n",
       "   Productivity  SalesIndex  \n",
       "0     195.74174  111.075774  \n",
       "1     117.17365  390.516869  \n",
       "2     119.64794  469.856708  \n",
       "3      96.69215  140.750935  \n",
       "4      86.56347   17.619627  "
      ]
     },
     "execution_count": 4,
     "metadata": {},
     "output_type": "execute_result"
    }
   ],
   "source": [
    "useful_data = ikea_ds.drop(columns=['Kommun_code','Year','Kommun_name', 'Border', 'Infrast'])\n",
    "useful_data.head()"
   ]
  },
  {
   "cell_type": "code",
   "execution_count": 5,
   "metadata": {},
   "outputs": [],
   "source": [
    "scaler = MinMaxScaler()\n",
    "data_rescaled = scaler.fit_transform(useful_data)"
   ]
  },
  {
   "cell_type": "code",
   "execution_count": 7,
   "metadata": {},
   "outputs": [],
   "source": [
    "pca = PCA(n_components = 0.95)\n",
    "pca.fit(data_rescaled)\n",
    "reduced = pca.transform(data_rescaled)"
   ]
  },
  {
   "cell_type": "code",
   "execution_count": 8,
   "metadata": {},
   "outputs": [],
   "source": [
    "wcss = []\n",
    "\n",
    "for i in range(1,20):\n",
    "    kmeans = KMeans(i)\n",
    "    kmeans.fit(reduced)\n",
    "    wcss_iter = kmeans.inertia_\n",
    "    wcss.append(wcss_iter)"
   ]
  },
  {
   "cell_type": "code",
   "execution_count": 9,
   "metadata": {},
   "outputs": [
    {
     "data": {
      "text/plain": [
       "0.8212433183977419"
      ]
     },
     "execution_count": 9,
     "metadata": {},
     "output_type": "execute_result"
    }
   ],
   "source": [
    "kmeans.inertia_"
   ]
  },
  {
   "cell_type": "code",
   "execution_count": 10,
   "metadata": {},
   "outputs": [
    {
     "data": {
      "text/plain": [
       "[15.69932271336257,\n",
       " 10.14875245001447,\n",
       " 5.963515326174494,\n",
       " 4.638086326900828,\n",
       " 3.765924463688919,\n",
       " 3.1198116255606245,\n",
       " 2.611594695778168,\n",
       " 2.1694263682182706,\n",
       " 1.8687162637961112,\n",
       " 1.660002353407722,\n",
       " 1.5023762019506617,\n",
       " 1.3931497478004866,\n",
       " 1.2663176377460976,\n",
       " 1.1889893285252946,\n",
       " 1.1190490204062689,\n",
       " 1.0294555764849342,\n",
       " 0.9716813171720993,\n",
       " 0.8683391576726329,\n",
       " 0.8212433183977419]"
      ]
     },
     "execution_count": 10,
     "metadata": {},
     "output_type": "execute_result"
    }
   ],
   "source": [
    "wcss"
   ]
  },
  {
   "cell_type": "code",
   "execution_count": 17,
   "metadata": {},
   "outputs": [
    {
     "data": {
      "image/png": "[encoded data removed]",
      "text/plain": [
       "<Figure size 432x288 with 1 Axes>"
      ]
     },
     "metadata": {
      "needs_background": "light"
     },
     "output_type": "display_data"
    }
   ],
   "source": [
    "number_clusters = range(1,20)\n",
    "plt.plot(number_clusters,wcss)\n",
    "plt.savefig('elbow.png')"
   ]
  },
  {
   "cell_type": "code",
   "execution_count": 12,
   "metadata": {},
   "outputs": [],
   "source": [
    "scaler = StandardScaler()\n",
    "X = scaler.fit_transform(reduced)"
   ]
  },
  {
   "cell_type": "code",
   "execution_count": 13,
   "metadata": {},
   "outputs": [
    {
     "data": {
      "text/plain": [
       "KMeans(n_clusters=3)"
      ]
     },
     "execution_count": 13,
     "metadata": {},
     "output_type": "execute_result"
    }
   ],
   "source": [
    "km = KMeans(n_clusters = 3)\n",
    "km.fit(reduced)\n"
   ]
  },
  {
   "cell_type": "code",
   "execution_count": 14,
   "metadata": {},
   "outputs": [],
   "source": [
    "lables = km.labels_"
   ]
  },
  {
   "cell_type": "code",
   "execution_count": 16,
   "metadata": {},
   "outputs": [
    {
     "data": {
      "image/png": "[encoded data removed]",
      "text/plain": [
       "<Figure size 432x288 with 1 Axes>"
      ]
     },
     "metadata": {
      "needs_background": "light"
     },
     "output_type": "display_data"
    }
   ],
   "source": [
    "plt.scatter(reduced[:,0], reduced[:,1], c=lables, cmap='rainbow')\n",
    "plt.savefig('clusters.png')"
   ]
  },
  {
   "cell_type": "code",
   "execution_count": 16,
   "metadata": {},
   "outputs": [],
   "source": [
    "Y=predicted=km.fit_predict(X)"
   ]
  },
  {
   "cell_type": "code",
   "execution_count": 17,
   "metadata": {},
   "outputs": [
    {
     "data": {
      "text/plain": [
       "array([1, 1, 1, 0, 1, 1, 1, 1, 1, 1, 1, 0, 0, 0, 1, 0, 1, 1, 1, 2, 1, 1,\n",
       "       1, 1, 1, 1, 0, 0, 0, 0, 0, 0, 0, 1, 0, 0, 0, 0, 1, 0, 0, 0, 0, 1,\n",
       "       0, 0, 0, 0, 1, 0, 1, 0, 1, 0, 0, 0, 0, 0, 0, 0, 0, 0, 0, 0, 1, 0,\n",
       "       0, 0, 0, 0, 0, 0, 0, 0, 0, 0, 0, 1, 0, 1, 0, 0, 0, 0, 0, 0, 0, 0,\n",
       "       0, 0, 0, 0, 1, 1, 0, 0, 0, 1, 0, 1, 0, 0, 0, 1, 1, 0, 0, 0, 0, 0,\n",
       "       0, 0, 0, 0, 0, 0, 1, 1, 1, 0, 0, 0, 0, 1, 0, 1, 0, 1, 0, 0, 1, 0,\n",
       "       0, 0, 1, 1, 1, 0, 0, 0, 0, 0, 0, 0, 0, 0, 0, 0, 0, 0, 0, 0, 0, 0,\n",
       "       0, 0, 0, 0, 0, 0, 0, 0, 0, 0, 0, 1, 0, 0, 1, 0, 0, 0, 0, 1, 0, 0,\n",
       "       0, 0, 0, 1, 0, 0, 0, 0, 0, 0, 0, 0, 0, 0, 0, 0, 0, 0, 0, 0, 0, 0,\n",
       "       0, 0, 0, 0, 0, 0, 1, 0, 0])"
      ]
     },
     "execution_count": 17,
     "metadata": {},
     "output_type": "execute_result"
    }
   ],
   "source": [
    "Y"
   ]
  },
  {
   "cell_type": "code",
   "execution_count": 18,
   "metadata": {},
   "outputs": [],
   "source": [
    "ikea = ikea_ds.iloc[:,2:12]\n",
    "ikea['cluster'] = pd.Series(Y)"
   ]
  },
  {
   "cell_type": "code",
   "execution_count": 92,
   "metadata": {},
   "outputs": [
    {
     "data": {
      "text/html": [
       "<div>\n",
       "<style scoped>\n",
       "    .dataframe tbody tr th:only-of-type {\n",
       "        vertical-align: middle;\n",
       "    }\n",
       "\n",
       "    .dataframe tbody tr th {\n",
       "        vertical-align: top;\n",
       "    }\n",
       "\n",
       "    .dataframe thead th {\n",
       "        text-align: right;\n",
       "    }\n",
       "</style>\n",
       "<table border=\"1\" class=\"dataframe\">\n",
       "  <thead>\n",
       "    <tr style=\"text-align: right;\">\n",
       "      <th></th>\n",
       "      <th>Kommun_name</th>\n",
       "      <th>Revenue</th>\n",
       "      <th>Employee</th>\n",
       "      <th>Population</th>\n",
       "      <th>Population_University</th>\n",
       "      <th>Percent_University</th>\n",
       "      <th>Productivity</th>\n",
       "      <th>SalesIndex</th>\n",
       "      <th>Infrast</th>\n",
       "      <th>Border</th>\n",
       "      <th>cluster</th>\n",
       "      <th>has_ikea</th>\n",
       "    </tr>\n",
       "  </thead>\n",
       "  <tbody>\n",
       "    <tr>\n",
       "      <th>0</th>\n",
       "      <td>Haparanda</td>\n",
       "      <td>1078</td>\n",
       "      <td>276</td>\n",
       "      <td>10059</td>\n",
       "      <td>719</td>\n",
       "      <td>0.071478</td>\n",
       "      <td>195.74174</td>\n",
       "      <td>111.075774</td>\n",
       "      <td>0</td>\n",
       "      <td>1</td>\n",
       "      <td>1</td>\n",
       "      <td>True</td>\n",
       "    </tr>\n",
       "    <tr>\n",
       "      <th>1</th>\n",
       "      <td>Kalmar</td>\n",
       "      <td>3790</td>\n",
       "      <td>1621</td>\n",
       "      <td>62815</td>\n",
       "      <td>8716</td>\n",
       "      <td>0.138757</td>\n",
       "      <td>117.17365</td>\n",
       "      <td>390.516869</td>\n",
       "      <td>0</td>\n",
       "      <td>0</td>\n",
       "      <td>1</td>\n",
       "      <td>True</td>\n",
       "    </tr>\n",
       "    <tr>\n",
       "      <th>2</th>\n",
       "      <td>Karlstad</td>\n",
       "      <td>4560</td>\n",
       "      <td>1910</td>\n",
       "      <td>85753</td>\n",
       "      <td>13308</td>\n",
       "      <td>0.155190</td>\n",
       "      <td>119.64794</td>\n",
       "      <td>469.856708</td>\n",
       "      <td>0</td>\n",
       "      <td>0</td>\n",
       "      <td>1</td>\n",
       "      <td>True</td>\n",
       "    </tr>\n",
       "    <tr>\n",
       "      <th>3</th>\n",
       "      <td>Upplands Väsby</td>\n",
       "      <td>1366</td>\n",
       "      <td>708</td>\n",
       "      <td>39289</td>\n",
       "      <td>4419</td>\n",
       "      <td>0.112474</td>\n",
       "      <td>96.69215</td>\n",
       "      <td>140.750935</td>\n",
       "      <td>0</td>\n",
       "      <td>0</td>\n",
       "      <td>0</td>\n",
       "      <td>False</td>\n",
       "    </tr>\n",
       "    <tr>\n",
       "      <th>4</th>\n",
       "      <td>Vallentuna</td>\n",
       "      <td>171</td>\n",
       "      <td>99</td>\n",
       "      <td>30114</td>\n",
       "      <td>3843</td>\n",
       "      <td>0.127615</td>\n",
       "      <td>86.56347</td>\n",
       "      <td>17.619627</td>\n",
       "      <td>0</td>\n",
       "      <td>0</td>\n",
       "      <td>1</td>\n",
       "      <td>False</td>\n",
       "    </tr>\n",
       "    <tr>\n",
       "      <th>5</th>\n",
       "      <td>Österåker</td>\n",
       "      <td>563</td>\n",
       "      <td>314</td>\n",
       "      <td>39521</td>\n",
       "      <td>5011</td>\n",
       "      <td>0.126793</td>\n",
       "      <td>89.85712</td>\n",
       "      <td>58.010817</td>\n",
       "      <td>0</td>\n",
       "      <td>0</td>\n",
       "      <td>1</td>\n",
       "      <td>False</td>\n",
       "    </tr>\n",
       "    <tr>\n",
       "      <th>6</th>\n",
       "      <td>Värmdö</td>\n",
       "      <td>920</td>\n",
       "      <td>454</td>\n",
       "      <td>38301</td>\n",
       "      <td>4720</td>\n",
       "      <td>0.123234</td>\n",
       "      <td>101.55604</td>\n",
       "      <td>94.795652</td>\n",
       "      <td>0</td>\n",
       "      <td>0</td>\n",
       "      <td>1</td>\n",
       "      <td>False</td>\n",
       "    </tr>\n",
       "    <tr>\n",
       "      <th>7</th>\n",
       "      <td>Järfälla</td>\n",
       "      <td>5119</td>\n",
       "      <td>2001</td>\n",
       "      <td>66211</td>\n",
       "      <td>9009</td>\n",
       "      <td>0.136065</td>\n",
       "      <td>128.20702</td>\n",
       "      <td>527.455371</td>\n",
       "      <td>0</td>\n",
       "      <td>0</td>\n",
       "      <td>1</td>\n",
       "      <td>False</td>\n",
       "    </tr>\n",
       "    <tr>\n",
       "      <th>8</th>\n",
       "      <td>Ekerö</td>\n",
       "      <td>144</td>\n",
       "      <td>116</td>\n",
       "      <td>25410</td>\n",
       "      <td>3893</td>\n",
       "      <td>0.153207</td>\n",
       "      <td>62.21259</td>\n",
       "      <td>14.837580</td>\n",
       "      <td>0</td>\n",
       "      <td>0</td>\n",
       "      <td>1</td>\n",
       "      <td>False</td>\n",
       "    </tr>\n",
       "    <tr>\n",
       "      <th>9</th>\n",
       "      <td>Huddinge</td>\n",
       "      <td>7153</td>\n",
       "      <td>2374</td>\n",
       "      <td>97453</td>\n",
       "      <td>12795</td>\n",
       "      <td>0.131294</td>\n",
       "      <td>151.00150</td>\n",
       "      <td>737.036192</td>\n",
       "      <td>0</td>\n",
       "      <td>0</td>\n",
       "      <td>1</td>\n",
       "      <td>False</td>\n",
       "    </tr>\n",
       "  </tbody>\n",
       "</table>\n",
       "</div>"
      ],
      "text/plain": [
       "      Kommun_name  Revenue  Employee  Population  Population_University  \\\n",
       "0       Haparanda     1078       276       10059                    719   \n",
       "1          Kalmar     3790      1621       62815                   8716   \n",
       "2        Karlstad     4560      1910       85753                  13308   \n",
       "3  Upplands Väsby     1366       708       39289                   4419   \n",
       "4      Vallentuna      171        99       30114                   3843   \n",
       "5       Österåker      563       314       39521                   5011   \n",
       "6          Värmdö      920       454       38301                   4720   \n",
       "7        Järfälla     5119      2001       66211                   9009   \n",
       "8           Ekerö      144       116       25410                   3893   \n",
       "9        Huddinge     7153      2374       97453                  12795   \n",
       "\n",
       "   Percent_University  Productivity  SalesIndex  Infrast  Border  cluster  \\\n",
       "0            0.071478     195.74174  111.075774        0       1        1   \n",
       "1            0.138757     117.17365  390.516869        0       0        1   \n",
       "2            0.155190     119.64794  469.856708        0       0        1   \n",
       "3            0.112474      96.69215  140.750935        0       0        0   \n",
       "4            0.127615      86.56347   17.619627        0       0        1   \n",
       "5            0.126793      89.85712   58.010817        0       0        1   \n",
       "6            0.123234     101.55604   94.795652        0       0        1   \n",
       "7            0.136065     128.20702  527.455371        0       0        1   \n",
       "8            0.153207      62.21259   14.837580        0       0        1   \n",
       "9            0.131294     151.00150  737.036192        0       0        1   \n",
       "\n",
       "   has_ikea  \n",
       "0      True  \n",
       "1      True  \n",
       "2      True  \n",
       "3     False  \n",
       "4     False  \n",
       "5     False  \n",
       "6     False  \n",
       "7     False  \n",
       "8     False  \n",
       "9     False  "
      ]
     },
     "execution_count": 92,
     "metadata": {},
     "output_type": "execute_result"
    }
   ],
   "source": [
    "ikea.head(10)"
   ]
  },
  {
   "cell_type": "code",
   "execution_count": 94,
   "metadata": {},
   "outputs": [],
   "source": [
    "cluster1=ikea[ikea.cluster==0]\n",
    "cluster2=ikea[ikea.cluster==1]\n",
    "cluster3=ikea[ikea.cluster==2]"
   ]
  },
  {
   "cell_type": "code",
   "execution_count": 21,
   "metadata": {},
   "outputs": [
    {
     "name": "stdout",
     "output_type": "stream",
     "text": [
      "        Kommun_name  Revenue  Employee  Population  Population_University  \\\n",
      "3    Upplands Väsby     1366       708       39289                   4419   \n",
      "11            Salem       27        68       15391                   1900   \n",
      "12          Haninge     1459      1031       77054                   6776   \n",
      "13           Tyresö      480       290       42947                   5219   \n",
      "15          Nykvarn       16        20        9331                    891   \n",
      "..              ...      ...       ...         ...                    ...   \n",
      "201       Degerfors       56        27        9641                    483   \n",
      "202       Hällefors       52        33        7220                    368   \n",
      "203    Ljusnarsberg       51        24        4931                    266   \n",
      "205           Kumla      152        98       20456                   1598   \n",
      "206       Askersund      126        65       11278                    809   \n",
      "\n",
      "     Percent_University  Productivity  SalesIndex  Infrast  Border  cluster  \n",
      "3              0.112474      96.69215  140.750935        0       0        0  \n",
      "11             0.123449      19.89888    2.782046        0       0        0  \n",
      "12             0.087938      70.92027  150.333539        0       0        0  \n",
      "13             0.121522      82.95012   49.458601        0       0        0  \n",
      "15             0.095488      40.09256    1.648620        0       0        0  \n",
      "..                  ...           ...         ...      ...     ...      ...  \n",
      "201            0.050099     103.94367    5.770170        0       0        0  \n",
      "202            0.050970      78.97019    5.358015        0       0        0  \n",
      "203            0.053944     106.49585    5.254976        0       0        0  \n",
      "205            0.078119      77.73047   15.661890        0       0        0  \n",
      "206            0.071733      97.14735   12.982883        0       0        0  \n",
      "\n",
      "[156 rows x 11 columns]\n"
     ]
    }
   ],
   "source": [
    "print(cluster1)"
   ]
  },
  {
   "cell_type": "code",
   "execution_count": 22,
   "metadata": {},
   "outputs": [
    {
     "name": "stdout",
     "output_type": "stream",
     "text": [
      "      Kommun_name  Revenue  Employee  Population  Population_University  \\\n",
      "0       Haparanda     1078       276       10059                    719   \n",
      "1          Kalmar     3790      1621       62815                   8716   \n",
      "2        Karlstad     4560      1910       85753                  13308   \n",
      "4      Vallentuna      171        99       30114                   3843   \n",
      "5       Österåker      563       314       39521                   5011   \n",
      "6          Värmdö      920       454       38301                   4720   \n",
      "7        Järfälla     5119      2001       66211                   9009   \n",
      "8           Ekerö      144       116       25410                   3893   \n",
      "9        Huddinge     7153      2374       97453                  12795   \n",
      "10       Botkyrka     1469       530       82608                   8023   \n",
      "14   Upplands-Bro      222        80       23676                   2520   \n",
      "16           Täby     3441      1546       63789                  13442   \n",
      "17       Danderyd      500       272       31330                   8448   \n",
      "18     Sollentuna     2393      1116       64630                  12322   \n",
      "20     Södertälje     2191       894       86246                   8734   \n",
      "21          Nacka     3104      1489       90108                  17871   \n",
      "22     Sundbyberg      573       365       38633                   6520   \n",
      "23          Solna     1491       847       68144                  16038   \n",
      "24        Lidingö      533       259       44017                  10030   \n",
      "25        Vaxholm       68        57       10965                   1946   \n",
      "33        Uppsala     7042      3391      197787                  40476   \n",
      "38       Nyköping     1642       708       51644                   5487   \n",
      "43      Strängnäs      616       278       32419                   3848   \n",
      "48        Boxholm       11         2        5221                    301   \n",
      "50       Finspång      249        73       20747                   1645   \n",
      "52      Linköping     5348      2280      146416                  26023   \n",
      "64      Jönköping     5298      2556      127382                  16750   \n",
      "77          Växjö     3268      1315       83005                  12266   \n",
      "79         Högsby       90        25        5777                    365   \n",
      "92     Karlskrona     2037       785       64032                   9004   \n",
      "93        Ronneby      646       262       28254                   2813   \n",
      "97   Staffanstorp      252       127       22259                   3215   \n",
      "99       Vellinge      327       332       33303                   5368   \n",
      "103      Kävlinge     1455       559       29013                   3911   \n",
      "104         Lomma      185       130       21559                   4564   \n",
      "116        Båstad      267       128       14278                   1784   \n",
      "117         Malmö    11217      5740      298963                  50084   \n",
      "118          Lund     3438      1561      110488                  29233   \n",
      "123         Ystad     1011       503       28338                   3277   \n",
      "125  Kristianstad     2739      1285       79543                   9507   \n",
      "127     Ängelholm      952       467       39394                   4488   \n",
      "130      Halmstad     3196      1437       91800                  11604   \n",
      "134    Kungsbacka     2139      1038       75025                  10461   \n",
      "135       Härryda      220       160       34463                   5137   \n",
      "136      Partille     1123       665       35084                   5215   \n",
      "165       Mölndal     3512      1487       60973                   9962   \n",
      "168     Uddevalla     2309      1010       51868                   5727   \n",
      "173         Borås     3365      1486      103294                  10919   \n",
      "179        Skövde     2438      1027       51402                   6315   \n",
      "204        Örebro     6228      2995      135460                  19516   \n",
      "\n",
      "     Percent_University  Productivity   SalesIndex  Infrast  Border  cluster  \n",
      "0              0.071478     195.74174   111.075774        0       1        1  \n",
      "1              0.138757     117.17365   390.516869        0       0        1  \n",
      "2              0.155190     119.64794   469.856708        0       0        1  \n",
      "4              0.127615      86.56347    17.619627        0       0        1  \n",
      "5              0.126793      89.85712    58.010817        0       0        1  \n",
      "6              0.123234     101.55604    94.795652        0       0        1  \n",
      "7              0.136065     128.20702   527.455371        0       0        1  \n",
      "8              0.153207      62.21259    14.837580        0       0        1  \n",
      "9              0.131294     151.00150   737.036192        0       0        1  \n",
      "10             0.097121     138.90558   151.363926        0       0        1  \n",
      "14             0.106437     139.07106    22.874603        0       0        1  \n",
      "16             0.210726     111.54470   354.556345        0       0        1  \n",
      "17             0.269646      92.12444    51.519376        0       0        1  \n",
      "18             0.190654     107.46134   246.571733        0       0        1  \n",
      "20             0.101268     122.82270   225.757905        0       0        1  \n",
      "21             0.198329     104.47221   319.832286        0       0        1  \n",
      "22             0.168768      78.67478    59.041205        0       0        1  \n",
      "23             0.235355      88.22019   153.630779        0       0        1  \n",
      "24             0.227867     103.13384    54.919655        0       0        1  \n",
      "25             0.177474      59.78715     7.006635        0       0        1  \n",
      "33             0.204644     104.07394   725.598890        0       0        1  \n",
      "38             0.106247     116.22877   169.189631        0       0        1  \n",
      "43             0.118696     111.04773    63.471871        0       0        1  \n",
      "48             0.057652     275.63633     1.133426        0       0        1  \n",
      "50             0.079289     170.94258    25.656649        0       0        1  \n",
      "52             0.177733     117.55208   551.051245        0       0        1  \n",
      "64             0.131494     103.87831   545.899307        0       0        1  \n",
      "77             0.147774     124.54608   336.730641        0       0        1  \n",
      "79             0.063182     180.41650     9.273488        0       0        1  \n",
      "92             0.140617     130.04544   209.889937        0       0        1  \n",
      "93             0.099561     123.56771    66.563034        1       0        1  \n",
      "97             0.144436      99.44217    25.965765        0       0        1  \n",
      "99             0.161187      49.36094    33.693672        0       0        1  \n",
      "103            0.134802     130.44425   149.921384        0       0        1  \n",
      "104            0.211698      71.31849    19.062169        0       0        1  \n",
      "116            0.124947     104.53821    27.511347        0       0        1  \n",
      "117            0.167526      97.93515  1155.785679        1       0        1  \n",
      "118            0.264581     110.37653   354.247229        0       0        1  \n",
      "123            0.115640     100.72956   104.172178        0       0        1  \n",
      "125            0.119520     106.82248   282.223141        0       0        1  \n",
      "127            0.113926     102.16305    98.092892        0       0        1  \n",
      "130            0.126405     111.46121   329.311851        0       0        1  \n",
      "134            0.139434     103.27310   220.399890        0       0        1  \n",
      "135            0.149058      68.90908    22.668525        0       0        1  \n",
      "136            0.148643      84.63147   115.712518        0       0        1  \n",
      "165            0.163384     118.36336   361.872096        0       0        1  \n",
      "168            0.110415     114.57143   237.916478        0       0        1  \n",
      "173            0.105708     113.48541   346.725400        0       0        1  \n",
      "179            0.122855     118.96988   251.208477        0       0        1  \n",
      "204            0.144072     104.21387   641.725346        0       0        1  \n"
     ]
    }
   ],
   "source": [
    "print(cluster2)"
   ]
  },
  {
   "cell_type": "code",
   "execution_count": 24,
   "metadata": {},
   "outputs": [
    {
     "name": "stdout",
     "output_type": "stream",
     "text": [
      "   Kommun_name  Revenue  Employee  Population  Population_University  \\\n",
      "19   Stockholm    32897     18795      847073                 191585   \n",
      "\n",
      "    Percent_University  Productivity   SalesIndex  Infrast  Border  cluster  \n",
      "19            0.226173       87.7178  3389.665819        1       0        2  \n"
     ]
    }
   ],
   "source": [
    "print(cluster3)"
   ]
  },
  {
   "cell_type": "code",
   "execution_count": 25,
   "metadata": {},
   "outputs": [
    {
     "data": {
      "text/html": [
       "<div>\n",
       "<style scoped>\n",
       "    .dataframe tbody tr th:only-of-type {\n",
       "        vertical-align: middle;\n",
       "    }\n",
       "\n",
       "    .dataframe tbody tr th {\n",
       "        vertical-align: top;\n",
       "    }\n",
       "\n",
       "    .dataframe thead th {\n",
       "        text-align: right;\n",
       "    }\n",
       "</style>\n",
       "<table border=\"1\" class=\"dataframe\">\n",
       "  <thead>\n",
       "    <tr style=\"text-align: right;\">\n",
       "      <th></th>\n",
       "      <th>Kommun_name</th>\n",
       "      <th>Revenue</th>\n",
       "      <th>Employee</th>\n",
       "      <th>Population</th>\n",
       "      <th>Population_University</th>\n",
       "      <th>Percent_University</th>\n",
       "      <th>Productivity</th>\n",
       "      <th>SalesIndex</th>\n",
       "      <th>Infrast</th>\n",
       "      <th>Border</th>\n",
       "      <th>cluster</th>\n",
       "    </tr>\n",
       "  </thead>\n",
       "  <tbody>\n",
       "    <tr>\n",
       "      <th>0</th>\n",
       "      <td>Haparanda</td>\n",
       "      <td>1078</td>\n",
       "      <td>276</td>\n",
       "      <td>10059</td>\n",
       "      <td>719</td>\n",
       "      <td>0.071478</td>\n",
       "      <td>195.74174</td>\n",
       "      <td>111.075774</td>\n",
       "      <td>0</td>\n",
       "      <td>1</td>\n",
       "      <td>1</td>\n",
       "    </tr>\n",
       "    <tr>\n",
       "      <th>1</th>\n",
       "      <td>Kalmar</td>\n",
       "      <td>3790</td>\n",
       "      <td>1621</td>\n",
       "      <td>62815</td>\n",
       "      <td>8716</td>\n",
       "      <td>0.138757</td>\n",
       "      <td>117.17365</td>\n",
       "      <td>390.516869</td>\n",
       "      <td>0</td>\n",
       "      <td>0</td>\n",
       "      <td>1</td>\n",
       "    </tr>\n",
       "    <tr>\n",
       "      <th>2</th>\n",
       "      <td>Karlstad</td>\n",
       "      <td>4560</td>\n",
       "      <td>1910</td>\n",
       "      <td>85753</td>\n",
       "      <td>13308</td>\n",
       "      <td>0.155190</td>\n",
       "      <td>119.64794</td>\n",
       "      <td>469.856708</td>\n",
       "      <td>0</td>\n",
       "      <td>0</td>\n",
       "      <td>1</td>\n",
       "    </tr>\n",
       "    <tr>\n",
       "      <th>3</th>\n",
       "      <td>Upplands Väsby</td>\n",
       "      <td>1366</td>\n",
       "      <td>708</td>\n",
       "      <td>39289</td>\n",
       "      <td>4419</td>\n",
       "      <td>0.112474</td>\n",
       "      <td>96.69215</td>\n",
       "      <td>140.750935</td>\n",
       "      <td>0</td>\n",
       "      <td>0</td>\n",
       "      <td>0</td>\n",
       "    </tr>\n",
       "    <tr>\n",
       "      <th>4</th>\n",
       "      <td>Vallentuna</td>\n",
       "      <td>171</td>\n",
       "      <td>99</td>\n",
       "      <td>30114</td>\n",
       "      <td>3843</td>\n",
       "      <td>0.127615</td>\n",
       "      <td>86.56347</td>\n",
       "      <td>17.619627</td>\n",
       "      <td>0</td>\n",
       "      <td>0</td>\n",
       "      <td>1</td>\n",
       "    </tr>\n",
       "  </tbody>\n",
       "</table>\n",
       "</div>"
      ],
      "text/plain": [
       "      Kommun_name  Revenue  Employee  Population  Population_University  \\\n",
       "0       Haparanda     1078       276       10059                    719   \n",
       "1          Kalmar     3790      1621       62815                   8716   \n",
       "2        Karlstad     4560      1910       85753                  13308   \n",
       "3  Upplands Väsby     1366       708       39289                   4419   \n",
       "4      Vallentuna      171        99       30114                   3843   \n",
       "\n",
       "   Percent_University  Productivity  SalesIndex  Infrast  Border  cluster  \n",
       "0            0.071478     195.74174  111.075774        0       1        1  \n",
       "1            0.138757     117.17365  390.516869        0       0        1  \n",
       "2            0.155190     119.64794  469.856708        0       0        1  \n",
       "3            0.112474      96.69215  140.750935        0       0        0  \n",
       "4            0.127615      86.56347   17.619627        0       0        1  "
      ]
     },
     "execution_count": 25,
     "metadata": {},
     "output_type": "execute_result"
    }
   ],
   "source": [
    "ikea.head()"
   ]
  },
  {
   "cell_type": "code",
   "execution_count": 50,
   "metadata": {},
   "outputs": [],
   "source": [
    "df = [\"Borlänge\", \"Gävle\", \"Göteborg\", \"Haparanda\", \"Helsingborg\", \"Jönköping\", \"Kalmar\", \"Karlstad\", \"Linköping\", \"Malmö\", \"Stockholm\", \"Sundsvall\", \"Uddevalla\", \"Umeå\", \"Uppsala\", \"Västerås\", \"Älmhult\", \"Örebro\"]"
   ]
  },
  {
   "cell_type": "code",
   "execution_count": 65,
   "metadata": {},
   "outputs": [
    {
     "data": {
      "text/plain": [
       "False    195\n",
       "True      12\n",
       "Name: has_ikea, dtype: int64"
      ]
     },
     "execution_count": 65,
     "metadata": {},
     "output_type": "execute_result"
    }
   ],
   "source": [
    "ikea['has_ikea'].value_counts()"
   ]
  },
  {
   "cell_type": "code",
   "execution_count": 70,
   "metadata": {},
   "outputs": [],
   "source": [
    "ikea[\"has_ikea\"] = ikea['Kommun_name'].isin(df)"
   ]
  },
  {
   "cell_type": "code",
   "execution_count": 71,
   "metadata": {},
   "outputs": [
    {
     "data": {
      "text/html": [
       "<div>\n",
       "<style scoped>\n",
       "    .dataframe tbody tr th:only-of-type {\n",
       "        vertical-align: middle;\n",
       "    }\n",
       "\n",
       "    .dataframe tbody tr th {\n",
       "        vertical-align: top;\n",
       "    }\n",
       "\n",
       "    .dataframe thead th {\n",
       "        text-align: right;\n",
       "    }\n",
       "</style>\n",
       "<table border=\"1\" class=\"dataframe\">\n",
       "  <thead>\n",
       "    <tr style=\"text-align: right;\">\n",
       "      <th></th>\n",
       "      <th>Kommun_name</th>\n",
       "      <th>Revenue</th>\n",
       "      <th>Employee</th>\n",
       "      <th>Population</th>\n",
       "      <th>Population_University</th>\n",
       "      <th>Percent_University</th>\n",
       "      <th>Productivity</th>\n",
       "      <th>SalesIndex</th>\n",
       "      <th>Infrast</th>\n",
       "      <th>Border</th>\n",
       "      <th>cluster</th>\n",
       "      <th>has_ikea</th>\n",
       "    </tr>\n",
       "  </thead>\n",
       "  <tbody>\n",
       "    <tr>\n",
       "      <th>0</th>\n",
       "      <td>Haparanda</td>\n",
       "      <td>1078</td>\n",
       "      <td>276</td>\n",
       "      <td>10059</td>\n",
       "      <td>719</td>\n",
       "      <td>0.071478</td>\n",
       "      <td>195.74174</td>\n",
       "      <td>111.075774</td>\n",
       "      <td>0</td>\n",
       "      <td>1</td>\n",
       "      <td>1</td>\n",
       "      <td>True</td>\n",
       "    </tr>\n",
       "    <tr>\n",
       "      <th>1</th>\n",
       "      <td>Kalmar</td>\n",
       "      <td>3790</td>\n",
       "      <td>1621</td>\n",
       "      <td>62815</td>\n",
       "      <td>8716</td>\n",
       "      <td>0.138757</td>\n",
       "      <td>117.17365</td>\n",
       "      <td>390.516869</td>\n",
       "      <td>0</td>\n",
       "      <td>0</td>\n",
       "      <td>1</td>\n",
       "      <td>True</td>\n",
       "    </tr>\n",
       "    <tr>\n",
       "      <th>2</th>\n",
       "      <td>Karlstad</td>\n",
       "      <td>4560</td>\n",
       "      <td>1910</td>\n",
       "      <td>85753</td>\n",
       "      <td>13308</td>\n",
       "      <td>0.155190</td>\n",
       "      <td>119.64794</td>\n",
       "      <td>469.856708</td>\n",
       "      <td>0</td>\n",
       "      <td>0</td>\n",
       "      <td>1</td>\n",
       "      <td>True</td>\n",
       "    </tr>\n",
       "    <tr>\n",
       "      <th>3</th>\n",
       "      <td>Upplands Väsby</td>\n",
       "      <td>1366</td>\n",
       "      <td>708</td>\n",
       "      <td>39289</td>\n",
       "      <td>4419</td>\n",
       "      <td>0.112474</td>\n",
       "      <td>96.69215</td>\n",
       "      <td>140.750935</td>\n",
       "      <td>0</td>\n",
       "      <td>0</td>\n",
       "      <td>0</td>\n",
       "      <td>False</td>\n",
       "    </tr>\n",
       "    <tr>\n",
       "      <th>4</th>\n",
       "      <td>Vallentuna</td>\n",
       "      <td>171</td>\n",
       "      <td>99</td>\n",
       "      <td>30114</td>\n",
       "      <td>3843</td>\n",
       "      <td>0.127615</td>\n",
       "      <td>86.56347</td>\n",
       "      <td>17.619627</td>\n",
       "      <td>0</td>\n",
       "      <td>0</td>\n",
       "      <td>1</td>\n",
       "      <td>False</td>\n",
       "    </tr>\n",
       "  </tbody>\n",
       "</table>\n",
       "</div>"
      ],
      "text/plain": [
       "      Kommun_name  Revenue  Employee  Population  Population_University  \\\n",
       "0       Haparanda     1078       276       10059                    719   \n",
       "1          Kalmar     3790      1621       62815                   8716   \n",
       "2        Karlstad     4560      1910       85753                  13308   \n",
       "3  Upplands Väsby     1366       708       39289                   4419   \n",
       "4      Vallentuna      171        99       30114                   3843   \n",
       "\n",
       "   Percent_University  Productivity  SalesIndex  Infrast  Border  cluster  \\\n",
       "0            0.071478     195.74174  111.075774        0       1        1   \n",
       "1            0.138757     117.17365  390.516869        0       0        1   \n",
       "2            0.155190     119.64794  469.856708        0       0        1   \n",
       "3            0.112474      96.69215  140.750935        0       0        0   \n",
       "4            0.127615      86.56347   17.619627        0       0        1   \n",
       "\n",
       "   has_ikea  \n",
       "0      True  \n",
       "1      True  \n",
       "2      True  \n",
       "3     False  \n",
       "4     False  "
      ]
     },
     "execution_count": 71,
     "metadata": {},
     "output_type": "execute_result"
    }
   ],
   "source": [
    "ikea.head()"
   ]
  },
  {
   "cell_type": "markdown",
   "metadata": {},
   "source": [
    "### Cluster 1 Analysis"
   ]
  },
  {
   "cell_type": "code",
   "execution_count": 95,
   "metadata": {},
   "outputs": [
    {
     "data": {
      "text/plain": [
       "(156, 12)"
      ]
     },
     "execution_count": 95,
     "metadata": {},
     "output_type": "execute_result"
    }
   ],
   "source": [
    "cluster1.shape"
   ]
  },
  {
   "cell_type": "code",
   "execution_count": 119,
   "metadata": {},
   "outputs": [
    {
     "data": {
      "text/plain": [
       "[569.59822, 457.28598099999994]"
      ]
     },
     "execution_count": 119,
     "metadata": {},
     "output_type": "execute_result"
    }
   ],
   "source": [
    "heapq.nlargest(2, cluster1['SalesIndex'])"
   ]
  },
  {
   "cell_type": "code",
   "execution_count": 121,
   "metadata": {},
   "outputs": [
    {
     "data": {
      "text/html": [
       "<div>\n",
       "<style scoped>\n",
       "    .dataframe tbody tr th:only-of-type {\n",
       "        vertical-align: middle;\n",
       "    }\n",
       "\n",
       "    .dataframe tbody tr th {\n",
       "        vertical-align: top;\n",
       "    }\n",
       "\n",
       "    .dataframe thead th {\n",
       "        text-align: right;\n",
       "    }\n",
       "</style>\n",
       "<table border=\"1\" class=\"dataframe\">\n",
       "  <thead>\n",
       "    <tr style=\"text-align: right;\">\n",
       "      <th></th>\n",
       "      <th>Kommun_name</th>\n",
       "      <th>Revenue</th>\n",
       "      <th>Employee</th>\n",
       "      <th>Population</th>\n",
       "      <th>Population_University</th>\n",
       "      <th>Percent_University</th>\n",
       "      <th>Productivity</th>\n",
       "      <th>SalesIndex</th>\n",
       "      <th>Infrast</th>\n",
       "      <th>Border</th>\n",
       "      <th>cluster</th>\n",
       "      <th>has_ikea</th>\n",
       "    </tr>\n",
       "  </thead>\n",
       "  <tbody>\n",
       "    <tr>\n",
       "      <th>120</th>\n",
       "      <td>Helsingborg</td>\n",
       "      <td>5528</td>\n",
       "      <td>3244</td>\n",
       "      <td>129177</td>\n",
       "      <td>16395</td>\n",
       "      <td>0.126919</td>\n",
       "      <td>85.40061</td>\n",
       "      <td>569.59822</td>\n",
       "      <td>1</td>\n",
       "      <td>0</td>\n",
       "      <td>0</td>\n",
       "      <td>True</td>\n",
       "    </tr>\n",
       "  </tbody>\n",
       "</table>\n",
       "</div>"
      ],
      "text/plain": [
       "     Kommun_name  Revenue  Employee  Population  Population_University  \\\n",
       "120  Helsingborg     5528      3244      129177                  16395   \n",
       "\n",
       "     Percent_University  Productivity  SalesIndex  Infrast  Border  cluster  \\\n",
       "120            0.126919      85.40061   569.59822        1       0        0   \n",
       "\n",
       "     has_ikea  \n",
       "120      True  "
      ]
     },
     "execution_count": 121,
     "metadata": {},
     "output_type": "execute_result"
    }
   ],
   "source": [
    "cluster1.loc[cluster1['SalesIndex'] == 569.59822]"
   ]
  },
  {
   "cell_type": "code",
   "execution_count": 122,
   "metadata": {},
   "outputs": [
    {
     "data": {
      "text/html": [
       "<div>\n",
       "<style scoped>\n",
       "    .dataframe tbody tr th:only-of-type {\n",
       "        vertical-align: middle;\n",
       "    }\n",
       "\n",
       "    .dataframe tbody tr th {\n",
       "        vertical-align: top;\n",
       "    }\n",
       "\n",
       "    .dataframe thead th {\n",
       "        text-align: right;\n",
       "    }\n",
       "</style>\n",
       "<table border=\"1\" class=\"dataframe\">\n",
       "  <thead>\n",
       "    <tr style=\"text-align: right;\">\n",
       "      <th></th>\n",
       "      <th>Kommun_name</th>\n",
       "      <th>Revenue</th>\n",
       "      <th>Employee</th>\n",
       "      <th>Population</th>\n",
       "      <th>Population_University</th>\n",
       "      <th>Percent_University</th>\n",
       "      <th>Productivity</th>\n",
       "      <th>SalesIndex</th>\n",
       "      <th>Infrast</th>\n",
       "      <th>Border</th>\n",
       "      <th>cluster</th>\n",
       "      <th>has_ikea</th>\n",
       "    </tr>\n",
       "  </thead>\n",
       "  <tbody>\n",
       "    <tr>\n",
       "      <th>53</th>\n",
       "      <td>Norrköping</td>\n",
       "      <td>4438</td>\n",
       "      <td>2630</td>\n",
       "      <td>130050</td>\n",
       "      <td>14526</td>\n",
       "      <td>0.111695</td>\n",
       "      <td>84.56785</td>\n",
       "      <td>457.285981</td>\n",
       "      <td>0</td>\n",
       "      <td>0</td>\n",
       "      <td>0</td>\n",
       "      <td>False</td>\n",
       "    </tr>\n",
       "  </tbody>\n",
       "</table>\n",
       "</div>"
      ],
      "text/plain": [
       "   Kommun_name  Revenue  Employee  Population  Population_University  \\\n",
       "53  Norrköping     4438      2630      130050                  14526   \n",
       "\n",
       "    Percent_University  Productivity  SalesIndex  Infrast  Border  cluster  \\\n",
       "53            0.111695      84.56785  457.285981        0       0        0   \n",
       "\n",
       "    has_ikea  \n",
       "53     False  "
      ]
     },
     "execution_count": 122,
     "metadata": {},
     "output_type": "execute_result"
    }
   ],
   "source": [
    "cluster1.loc[cluster1['SalesIndex'] == 457.28598099999994]"
   ]
  },
  {
   "cell_type": "code",
   "execution_count": 123,
   "metadata": {},
   "outputs": [
    {
     "data": {
      "text/plain": [
       "130050"
      ]
     },
     "execution_count": 123,
     "metadata": {},
     "output_type": "execute_result"
    }
   ],
   "source": [
    "cluster1['Population'].max()"
   ]
  },
  {
   "cell_type": "code",
   "execution_count": 124,
   "metadata": {},
   "outputs": [
    {
     "data": {
      "text/html": [
       "<div>\n",
       "<style scoped>\n",
       "    .dataframe tbody tr th:only-of-type {\n",
       "        vertical-align: middle;\n",
       "    }\n",
       "\n",
       "    .dataframe tbody tr th {\n",
       "        vertical-align: top;\n",
       "    }\n",
       "\n",
       "    .dataframe thead th {\n",
       "        text-align: right;\n",
       "    }\n",
       "</style>\n",
       "<table border=\"1\" class=\"dataframe\">\n",
       "  <thead>\n",
       "    <tr style=\"text-align: right;\">\n",
       "      <th></th>\n",
       "      <th>Kommun_name</th>\n",
       "      <th>Revenue</th>\n",
       "      <th>Employee</th>\n",
       "      <th>Population</th>\n",
       "      <th>Population_University</th>\n",
       "      <th>Percent_University</th>\n",
       "      <th>Productivity</th>\n",
       "      <th>SalesIndex</th>\n",
       "      <th>Infrast</th>\n",
       "      <th>Border</th>\n",
       "      <th>cluster</th>\n",
       "      <th>has_ikea</th>\n",
       "    </tr>\n",
       "  </thead>\n",
       "  <tbody>\n",
       "    <tr>\n",
       "      <th>53</th>\n",
       "      <td>Norrköping</td>\n",
       "      <td>4438</td>\n",
       "      <td>2630</td>\n",
       "      <td>130050</td>\n",
       "      <td>14526</td>\n",
       "      <td>0.111695</td>\n",
       "      <td>84.56785</td>\n",
       "      <td>457.285981</td>\n",
       "      <td>0</td>\n",
       "      <td>0</td>\n",
       "      <td>0</td>\n",
       "      <td>False</td>\n",
       "    </tr>\n",
       "  </tbody>\n",
       "</table>\n",
       "</div>"
      ],
      "text/plain": [
       "   Kommun_name  Revenue  Employee  Population  Population_University  \\\n",
       "53  Norrköping     4438      2630      130050                  14526   \n",
       "\n",
       "    Percent_University  Productivity  SalesIndex  Infrast  Border  cluster  \\\n",
       "53            0.111695      84.56785  457.285981        0       0        0   \n",
       "\n",
       "    has_ikea  \n",
       "53     False  "
      ]
     },
     "execution_count": 124,
     "metadata": {},
     "output_type": "execute_result"
    }
   ],
   "source": [
    "cluster1.loc[cluster1['Population'] == 130050]"
   ]
  },
  {
   "cell_type": "code",
   "execution_count": 129,
   "metadata": {},
   "outputs": [
    {
     "data": {
      "text/plain": [
       "[5528, 4438]"
      ]
     },
     "execution_count": 129,
     "metadata": {},
     "output_type": "execute_result"
    }
   ],
   "source": [
    "heapq.nlargest(2, cluster1['Revenue'])"
   ]
  },
  {
   "cell_type": "code",
   "execution_count": 126,
   "metadata": {},
   "outputs": [
    {
     "data": {
      "text/html": [
       "<div>\n",
       "<style scoped>\n",
       "    .dataframe tbody tr th:only-of-type {\n",
       "        vertical-align: middle;\n",
       "    }\n",
       "\n",
       "    .dataframe tbody tr th {\n",
       "        vertical-align: top;\n",
       "    }\n",
       "\n",
       "    .dataframe thead th {\n",
       "        text-align: right;\n",
       "    }\n",
       "</style>\n",
       "<table border=\"1\" class=\"dataframe\">\n",
       "  <thead>\n",
       "    <tr style=\"text-align: right;\">\n",
       "      <th></th>\n",
       "      <th>Kommun_name</th>\n",
       "      <th>Revenue</th>\n",
       "      <th>Employee</th>\n",
       "      <th>Population</th>\n",
       "      <th>Population_University</th>\n",
       "      <th>Percent_University</th>\n",
       "      <th>Productivity</th>\n",
       "      <th>SalesIndex</th>\n",
       "      <th>Infrast</th>\n",
       "      <th>Border</th>\n",
       "      <th>cluster</th>\n",
       "      <th>has_ikea</th>\n",
       "    </tr>\n",
       "  </thead>\n",
       "  <tbody>\n",
       "    <tr>\n",
       "      <th>120</th>\n",
       "      <td>Helsingborg</td>\n",
       "      <td>5528</td>\n",
       "      <td>3244</td>\n",
       "      <td>129177</td>\n",
       "      <td>16395</td>\n",
       "      <td>0.126919</td>\n",
       "      <td>85.40061</td>\n",
       "      <td>569.59822</td>\n",
       "      <td>1</td>\n",
       "      <td>0</td>\n",
       "      <td>0</td>\n",
       "      <td>True</td>\n",
       "    </tr>\n",
       "  </tbody>\n",
       "</table>\n",
       "</div>"
      ],
      "text/plain": [
       "     Kommun_name  Revenue  Employee  Population  Population_University  \\\n",
       "120  Helsingborg     5528      3244      129177                  16395   \n",
       "\n",
       "     Percent_University  Productivity  SalesIndex  Infrast  Border  cluster  \\\n",
       "120            0.126919      85.40061   569.59822        1       0        0   \n",
       "\n",
       "     has_ikea  \n",
       "120      True  "
      ]
     },
     "execution_count": 126,
     "metadata": {},
     "output_type": "execute_result"
    }
   ],
   "source": [
    "cluster1.loc[cluster1['Revenue'] == 5528]"
   ]
  },
  {
   "cell_type": "code",
   "execution_count": 130,
   "metadata": {},
   "outputs": [
    {
     "data": {
      "text/html": [
       "<div>\n",
       "<style scoped>\n",
       "    .dataframe tbody tr th:only-of-type {\n",
       "        vertical-align: middle;\n",
       "    }\n",
       "\n",
       "    .dataframe tbody tr th {\n",
       "        vertical-align: top;\n",
       "    }\n",
       "\n",
       "    .dataframe thead th {\n",
       "        text-align: right;\n",
       "    }\n",
       "</style>\n",
       "<table border=\"1\" class=\"dataframe\">\n",
       "  <thead>\n",
       "    <tr style=\"text-align: right;\">\n",
       "      <th></th>\n",
       "      <th>Kommun_name</th>\n",
       "      <th>Revenue</th>\n",
       "      <th>Employee</th>\n",
       "      <th>Population</th>\n",
       "      <th>Population_University</th>\n",
       "      <th>Percent_University</th>\n",
       "      <th>Productivity</th>\n",
       "      <th>SalesIndex</th>\n",
       "      <th>Infrast</th>\n",
       "      <th>Border</th>\n",
       "      <th>cluster</th>\n",
       "      <th>has_ikea</th>\n",
       "    </tr>\n",
       "  </thead>\n",
       "  <tbody>\n",
       "    <tr>\n",
       "      <th>53</th>\n",
       "      <td>Norrköping</td>\n",
       "      <td>4438</td>\n",
       "      <td>2630</td>\n",
       "      <td>130050</td>\n",
       "      <td>14526</td>\n",
       "      <td>0.111695</td>\n",
       "      <td>84.56785</td>\n",
       "      <td>457.285981</td>\n",
       "      <td>0</td>\n",
       "      <td>0</td>\n",
       "      <td>0</td>\n",
       "      <td>False</td>\n",
       "    </tr>\n",
       "  </tbody>\n",
       "</table>\n",
       "</div>"
      ],
      "text/plain": [
       "   Kommun_name  Revenue  Employee  Population  Population_University  \\\n",
       "53  Norrköping     4438      2630      130050                  14526   \n",
       "\n",
       "    Percent_University  Productivity  SalesIndex  Infrast  Border  cluster  \\\n",
       "53            0.111695      84.56785  457.285981        0       0        0   \n",
       "\n",
       "    has_ikea  \n",
       "53     False  "
      ]
     },
     "execution_count": 130,
     "metadata": {},
     "output_type": "execute_result"
    }
   ],
   "source": [
    "cluster1.loc[cluster1['Revenue'] == 4438]"
   ]
  },
  {
   "cell_type": "markdown",
   "metadata": {},
   "source": [
    "### Cluster 2 Analysis"
   ]
  },
  {
   "cell_type": "code",
   "execution_count": 81,
   "metadata": {},
   "outputs": [
    {
     "data": {
      "text/plain": [
       "(50, 11)"
      ]
     },
     "execution_count": 81,
     "metadata": {},
     "output_type": "execute_result"
    }
   ],
   "source": [
    "cluster2.shape"
   ]
  },
  {
   "cell_type": "code",
   "execution_count": 131,
   "metadata": {},
   "outputs": [
    {
     "data": {
      "text/plain": [
       "[1155.7856789999998, 737.036192]"
      ]
     },
     "execution_count": 131,
     "metadata": {},
     "output_type": "execute_result"
    }
   ],
   "source": [
    "heapq.nlargest(2, cluster2['SalesIndex'])"
   ]
  },
  {
   "cell_type": "code",
   "execution_count": 132,
   "metadata": {},
   "outputs": [
    {
     "data": {
      "text/html": [
       "<div>\n",
       "<style scoped>\n",
       "    .dataframe tbody tr th:only-of-type {\n",
       "        vertical-align: middle;\n",
       "    }\n",
       "\n",
       "    .dataframe tbody tr th {\n",
       "        vertical-align: top;\n",
       "    }\n",
       "\n",
       "    .dataframe thead th {\n",
       "        text-align: right;\n",
       "    }\n",
       "</style>\n",
       "<table border=\"1\" class=\"dataframe\">\n",
       "  <thead>\n",
       "    <tr style=\"text-align: right;\">\n",
       "      <th></th>\n",
       "      <th>Kommun_name</th>\n",
       "      <th>Revenue</th>\n",
       "      <th>Employee</th>\n",
       "      <th>Population</th>\n",
       "      <th>Population_University</th>\n",
       "      <th>Percent_University</th>\n",
       "      <th>Productivity</th>\n",
       "      <th>SalesIndex</th>\n",
       "      <th>Infrast</th>\n",
       "      <th>Border</th>\n",
       "      <th>cluster</th>\n",
       "      <th>has_ikea</th>\n",
       "    </tr>\n",
       "  </thead>\n",
       "  <tbody>\n",
       "    <tr>\n",
       "      <th>117</th>\n",
       "      <td>Malmö</td>\n",
       "      <td>11217</td>\n",
       "      <td>5740</td>\n",
       "      <td>298963</td>\n",
       "      <td>50084</td>\n",
       "      <td>0.167526</td>\n",
       "      <td>97.93515</td>\n",
       "      <td>1155.785679</td>\n",
       "      <td>1</td>\n",
       "      <td>0</td>\n",
       "      <td>1</td>\n",
       "      <td>True</td>\n",
       "    </tr>\n",
       "  </tbody>\n",
       "</table>\n",
       "</div>"
      ],
      "text/plain": [
       "    Kommun_name  Revenue  Employee  Population  Population_University  \\\n",
       "117       Malmö    11217      5740      298963                  50084   \n",
       "\n",
       "     Percent_University  Productivity   SalesIndex  Infrast  Border  cluster  \\\n",
       "117            0.167526      97.93515  1155.785679        1       0        1   \n",
       "\n",
       "     has_ikea  \n",
       "117      True  "
      ]
     },
     "execution_count": 132,
     "metadata": {},
     "output_type": "execute_result"
    }
   ],
   "source": [
    "cluster2.loc[cluster2['SalesIndex'] == 1155.7856789999998]"
   ]
  },
  {
   "cell_type": "code",
   "execution_count": 133,
   "metadata": {},
   "outputs": [
    {
     "data": {
      "text/html": [
       "<div>\n",
       "<style scoped>\n",
       "    .dataframe tbody tr th:only-of-type {\n",
       "        vertical-align: middle;\n",
       "    }\n",
       "\n",
       "    .dataframe tbody tr th {\n",
       "        vertical-align: top;\n",
       "    }\n",
       "\n",
       "    .dataframe thead th {\n",
       "        text-align: right;\n",
       "    }\n",
       "</style>\n",
       "<table border=\"1\" class=\"dataframe\">\n",
       "  <thead>\n",
       "    <tr style=\"text-align: right;\">\n",
       "      <th></th>\n",
       "      <th>Kommun_name</th>\n",
       "      <th>Revenue</th>\n",
       "      <th>Employee</th>\n",
       "      <th>Population</th>\n",
       "      <th>Population_University</th>\n",
       "      <th>Percent_University</th>\n",
       "      <th>Productivity</th>\n",
       "      <th>SalesIndex</th>\n",
       "      <th>Infrast</th>\n",
       "      <th>Border</th>\n",
       "      <th>cluster</th>\n",
       "      <th>has_ikea</th>\n",
       "    </tr>\n",
       "  </thead>\n",
       "  <tbody>\n",
       "    <tr>\n",
       "      <th>9</th>\n",
       "      <td>Huddinge</td>\n",
       "      <td>7153</td>\n",
       "      <td>2374</td>\n",
       "      <td>97453</td>\n",
       "      <td>12795</td>\n",
       "      <td>0.131294</td>\n",
       "      <td>151.0015</td>\n",
       "      <td>737.036192</td>\n",
       "      <td>0</td>\n",
       "      <td>0</td>\n",
       "      <td>1</td>\n",
       "      <td>False</td>\n",
       "    </tr>\n",
       "  </tbody>\n",
       "</table>\n",
       "</div>"
      ],
      "text/plain": [
       "  Kommun_name  Revenue  Employee  Population  Population_University  \\\n",
       "9    Huddinge     7153      2374       97453                  12795   \n",
       "\n",
       "   Percent_University  Productivity  SalesIndex  Infrast  Border  cluster  \\\n",
       "9            0.131294      151.0015  737.036192        0       0        1   \n",
       "\n",
       "   has_ikea  \n",
       "9     False  "
      ]
     },
     "execution_count": 133,
     "metadata": {},
     "output_type": "execute_result"
    }
   ],
   "source": [
    "cluster2.loc[cluster2['SalesIndex'] == 737.036192]"
   ]
  },
  {
   "cell_type": "code",
   "execution_count": 153,
   "metadata": {},
   "outputs": [
    {
     "data": {
      "text/plain": [
       "[298963, 197787, 146416, 135460, 127382, 110488, 103294, 97453, 91800, 90108]"
      ]
     },
     "execution_count": 153,
     "metadata": {},
     "output_type": "execute_result"
    }
   ],
   "source": [
    "heapq.nlargest(10, cluster2['Population'])"
   ]
  },
  {
   "cell_type": "code",
   "execution_count": 137,
   "metadata": {},
   "outputs": [
    {
     "data": {
      "text/html": [
       "<div>\n",
       "<style scoped>\n",
       "    .dataframe tbody tr th:only-of-type {\n",
       "        vertical-align: middle;\n",
       "    }\n",
       "\n",
       "    .dataframe tbody tr th {\n",
       "        vertical-align: top;\n",
       "    }\n",
       "\n",
       "    .dataframe thead th {\n",
       "        text-align: right;\n",
       "    }\n",
       "</style>\n",
       "<table border=\"1\" class=\"dataframe\">\n",
       "  <thead>\n",
       "    <tr style=\"text-align: right;\">\n",
       "      <th></th>\n",
       "      <th>Kommun_name</th>\n",
       "      <th>Revenue</th>\n",
       "      <th>Employee</th>\n",
       "      <th>Population</th>\n",
       "      <th>Population_University</th>\n",
       "      <th>Percent_University</th>\n",
       "      <th>Productivity</th>\n",
       "      <th>SalesIndex</th>\n",
       "      <th>Infrast</th>\n",
       "      <th>Border</th>\n",
       "      <th>cluster</th>\n",
       "      <th>has_ikea</th>\n",
       "    </tr>\n",
       "  </thead>\n",
       "  <tbody>\n",
       "    <tr>\n",
       "      <th>117</th>\n",
       "      <td>Malmö</td>\n",
       "      <td>11217</td>\n",
       "      <td>5740</td>\n",
       "      <td>298963</td>\n",
       "      <td>50084</td>\n",
       "      <td>0.167526</td>\n",
       "      <td>97.93515</td>\n",
       "      <td>1155.785679</td>\n",
       "      <td>1</td>\n",
       "      <td>0</td>\n",
       "      <td>1</td>\n",
       "      <td>True</td>\n",
       "    </tr>\n",
       "  </tbody>\n",
       "</table>\n",
       "</div>"
      ],
      "text/plain": [
       "    Kommun_name  Revenue  Employee  Population  Population_University  \\\n",
       "117       Malmö    11217      5740      298963                  50084   \n",
       "\n",
       "     Percent_University  Productivity   SalesIndex  Infrast  Border  cluster  \\\n",
       "117            0.167526      97.93515  1155.785679        1       0        1   \n",
       "\n",
       "     has_ikea  \n",
       "117      True  "
      ]
     },
     "execution_count": 137,
     "metadata": {},
     "output_type": "execute_result"
    }
   ],
   "source": [
    "cluster2.loc[cluster2['Population'] == 298963]"
   ]
  },
  {
   "cell_type": "code",
   "execution_count": 138,
   "metadata": {
    "scrolled": true
   },
   "outputs": [
    {
     "data": {
      "text/html": [
       "<div>\n",
       "<style scoped>\n",
       "    .dataframe tbody tr th:only-of-type {\n",
       "        vertical-align: middle;\n",
       "    }\n",
       "\n",
       "    .dataframe tbody tr th {\n",
       "        vertical-align: top;\n",
       "    }\n",
       "\n",
       "    .dataframe thead th {\n",
       "        text-align: right;\n",
       "    }\n",
       "</style>\n",
       "<table border=\"1\" class=\"dataframe\">\n",
       "  <thead>\n",
       "    <tr style=\"text-align: right;\">\n",
       "      <th></th>\n",
       "      <th>Kommun_name</th>\n",
       "      <th>Revenue</th>\n",
       "      <th>Employee</th>\n",
       "      <th>Population</th>\n",
       "      <th>Population_University</th>\n",
       "      <th>Percent_University</th>\n",
       "      <th>Productivity</th>\n",
       "      <th>SalesIndex</th>\n",
       "      <th>Infrast</th>\n",
       "      <th>Border</th>\n",
       "      <th>cluster</th>\n",
       "      <th>has_ikea</th>\n",
       "    </tr>\n",
       "  </thead>\n",
       "  <tbody>\n",
       "    <tr>\n",
       "      <th>33</th>\n",
       "      <td>Uppsala</td>\n",
       "      <td>7042</td>\n",
       "      <td>3391</td>\n",
       "      <td>197787</td>\n",
       "      <td>40476</td>\n",
       "      <td>0.204644</td>\n",
       "      <td>104.07394</td>\n",
       "      <td>725.59889</td>\n",
       "      <td>0</td>\n",
       "      <td>0</td>\n",
       "      <td>1</td>\n",
       "      <td>True</td>\n",
       "    </tr>\n",
       "  </tbody>\n",
       "</table>\n",
       "</div>"
      ],
      "text/plain": [
       "   Kommun_name  Revenue  Employee  Population  Population_University  \\\n",
       "33     Uppsala     7042      3391      197787                  40476   \n",
       "\n",
       "    Percent_University  Productivity  SalesIndex  Infrast  Border  cluster  \\\n",
       "33            0.204644     104.07394   725.59889        0       0        1   \n",
       "\n",
       "    has_ikea  \n",
       "33      True  "
      ]
     },
     "execution_count": 138,
     "metadata": {},
     "output_type": "execute_result"
    }
   ],
   "source": [
    "cluster2.loc[cluster2['Population'] == 197787]"
   ]
  },
  {
   "cell_type": "code",
   "execution_count": 140,
   "metadata": {},
   "outputs": [
    {
     "data": {
      "text/html": [
       "<div>\n",
       "<style scoped>\n",
       "    .dataframe tbody tr th:only-of-type {\n",
       "        vertical-align: middle;\n",
       "    }\n",
       "\n",
       "    .dataframe tbody tr th {\n",
       "        vertical-align: top;\n",
       "    }\n",
       "\n",
       "    .dataframe thead th {\n",
       "        text-align: right;\n",
       "    }\n",
       "</style>\n",
       "<table border=\"1\" class=\"dataframe\">\n",
       "  <thead>\n",
       "    <tr style=\"text-align: right;\">\n",
       "      <th></th>\n",
       "      <th>Kommun_name</th>\n",
       "      <th>Revenue</th>\n",
       "      <th>Employee</th>\n",
       "      <th>Population</th>\n",
       "      <th>Population_University</th>\n",
       "      <th>Percent_University</th>\n",
       "      <th>Productivity</th>\n",
       "      <th>SalesIndex</th>\n",
       "      <th>Infrast</th>\n",
       "      <th>Border</th>\n",
       "      <th>cluster</th>\n",
       "      <th>has_ikea</th>\n",
       "    </tr>\n",
       "  </thead>\n",
       "  <tbody>\n",
       "    <tr>\n",
       "      <th>52</th>\n",
       "      <td>Linköping</td>\n",
       "      <td>5348</td>\n",
       "      <td>2280</td>\n",
       "      <td>146416</td>\n",
       "      <td>26023</td>\n",
       "      <td>0.177733</td>\n",
       "      <td>117.55208</td>\n",
       "      <td>551.051245</td>\n",
       "      <td>0</td>\n",
       "      <td>0</td>\n",
       "      <td>1</td>\n",
       "      <td>True</td>\n",
       "    </tr>\n",
       "  </tbody>\n",
       "</table>\n",
       "</div>"
      ],
      "text/plain": [
       "   Kommun_name  Revenue  Employee  Population  Population_University  \\\n",
       "52   Linköping     5348      2280      146416                  26023   \n",
       "\n",
       "    Percent_University  Productivity  SalesIndex  Infrast  Border  cluster  \\\n",
       "52            0.177733     117.55208  551.051245        0       0        1   \n",
       "\n",
       "    has_ikea  \n",
       "52      True  "
      ]
     },
     "execution_count": 140,
     "metadata": {},
     "output_type": "execute_result"
    }
   ],
   "source": [
    "cluster2.loc[cluster2['Population'] == 146416]"
   ]
  },
  {
   "cell_type": "code",
   "execution_count": 142,
   "metadata": {},
   "outputs": [
    {
     "data": {
      "text/html": [
       "<div>\n",
       "<style scoped>\n",
       "    .dataframe tbody tr th:only-of-type {\n",
       "        vertical-align: middle;\n",
       "    }\n",
       "\n",
       "    .dataframe tbody tr th {\n",
       "        vertical-align: top;\n",
       "    }\n",
       "\n",
       "    .dataframe thead th {\n",
       "        text-align: right;\n",
       "    }\n",
       "</style>\n",
       "<table border=\"1\" class=\"dataframe\">\n",
       "  <thead>\n",
       "    <tr style=\"text-align: right;\">\n",
       "      <th></th>\n",
       "      <th>Kommun_name</th>\n",
       "      <th>Revenue</th>\n",
       "      <th>Employee</th>\n",
       "      <th>Population</th>\n",
       "      <th>Population_University</th>\n",
       "      <th>Percent_University</th>\n",
       "      <th>Productivity</th>\n",
       "      <th>SalesIndex</th>\n",
       "      <th>Infrast</th>\n",
       "      <th>Border</th>\n",
       "      <th>cluster</th>\n",
       "      <th>has_ikea</th>\n",
       "    </tr>\n",
       "  </thead>\n",
       "  <tbody>\n",
       "    <tr>\n",
       "      <th>204</th>\n",
       "      <td>Örebro</td>\n",
       "      <td>6228</td>\n",
       "      <td>2995</td>\n",
       "      <td>135460</td>\n",
       "      <td>19516</td>\n",
       "      <td>0.144072</td>\n",
       "      <td>104.21387</td>\n",
       "      <td>641.725346</td>\n",
       "      <td>0</td>\n",
       "      <td>0</td>\n",
       "      <td>1</td>\n",
       "      <td>True</td>\n",
       "    </tr>\n",
       "  </tbody>\n",
       "</table>\n",
       "</div>"
      ],
      "text/plain": [
       "    Kommun_name  Revenue  Employee  Population  Population_University  \\\n",
       "204      Örebro     6228      2995      135460                  19516   \n",
       "\n",
       "     Percent_University  Productivity  SalesIndex  Infrast  Border  cluster  \\\n",
       "204            0.144072     104.21387  641.725346        0       0        1   \n",
       "\n",
       "     has_ikea  \n",
       "204      True  "
      ]
     },
     "execution_count": 142,
     "metadata": {},
     "output_type": "execute_result"
    }
   ],
   "source": [
    "cluster2.loc[cluster2['Population'] == 135460]"
   ]
  },
  {
   "cell_type": "code",
   "execution_count": 144,
   "metadata": {},
   "outputs": [
    {
     "data": {
      "text/html": [
       "<div>\n",
       "<style scoped>\n",
       "    .dataframe tbody tr th:only-of-type {\n",
       "        vertical-align: middle;\n",
       "    }\n",
       "\n",
       "    .dataframe tbody tr th {\n",
       "        vertical-align: top;\n",
       "    }\n",
       "\n",
       "    .dataframe thead th {\n",
       "        text-align: right;\n",
       "    }\n",
       "</style>\n",
       "<table border=\"1\" class=\"dataframe\">\n",
       "  <thead>\n",
       "    <tr style=\"text-align: right;\">\n",
       "      <th></th>\n",
       "      <th>Kommun_name</th>\n",
       "      <th>Revenue</th>\n",
       "      <th>Employee</th>\n",
       "      <th>Population</th>\n",
       "      <th>Population_University</th>\n",
       "      <th>Percent_University</th>\n",
       "      <th>Productivity</th>\n",
       "      <th>SalesIndex</th>\n",
       "      <th>Infrast</th>\n",
       "      <th>Border</th>\n",
       "      <th>cluster</th>\n",
       "      <th>has_ikea</th>\n",
       "    </tr>\n",
       "  </thead>\n",
       "  <tbody>\n",
       "    <tr>\n",
       "      <th>64</th>\n",
       "      <td>Jönköping</td>\n",
       "      <td>5298</td>\n",
       "      <td>2556</td>\n",
       "      <td>127382</td>\n",
       "      <td>16750</td>\n",
       "      <td>0.131494</td>\n",
       "      <td>103.87831</td>\n",
       "      <td>545.899307</td>\n",
       "      <td>0</td>\n",
       "      <td>0</td>\n",
       "      <td>1</td>\n",
       "      <td>True</td>\n",
       "    </tr>\n",
       "  </tbody>\n",
       "</table>\n",
       "</div>"
      ],
      "text/plain": [
       "   Kommun_name  Revenue  Employee  Population  Population_University  \\\n",
       "64   Jönköping     5298      2556      127382                  16750   \n",
       "\n",
       "    Percent_University  Productivity  SalesIndex  Infrast  Border  cluster  \\\n",
       "64            0.131494     103.87831  545.899307        0       0        1   \n",
       "\n",
       "    has_ikea  \n",
       "64      True  "
      ]
     },
     "execution_count": 144,
     "metadata": {},
     "output_type": "execute_result"
    }
   ],
   "source": [
    "cluster2.loc[cluster2['Population'] == 127382]"
   ]
  },
  {
   "cell_type": "code",
   "execution_count": 145,
   "metadata": {},
   "outputs": [
    {
     "data": {
      "text/html": [
       "<div>\n",
       "<style scoped>\n",
       "    .dataframe tbody tr th:only-of-type {\n",
       "        vertical-align: middle;\n",
       "    }\n",
       "\n",
       "    .dataframe tbody tr th {\n",
       "        vertical-align: top;\n",
       "    }\n",
       "\n",
       "    .dataframe thead th {\n",
       "        text-align: right;\n",
       "    }\n",
       "</style>\n",
       "<table border=\"1\" class=\"dataframe\">\n",
       "  <thead>\n",
       "    <tr style=\"text-align: right;\">\n",
       "      <th></th>\n",
       "      <th>Kommun_name</th>\n",
       "      <th>Revenue</th>\n",
       "      <th>Employee</th>\n",
       "      <th>Population</th>\n",
       "      <th>Population_University</th>\n",
       "      <th>Percent_University</th>\n",
       "      <th>Productivity</th>\n",
       "      <th>SalesIndex</th>\n",
       "      <th>Infrast</th>\n",
       "      <th>Border</th>\n",
       "      <th>cluster</th>\n",
       "      <th>has_ikea</th>\n",
       "    </tr>\n",
       "  </thead>\n",
       "  <tbody>\n",
       "    <tr>\n",
       "      <th>118</th>\n",
       "      <td>Lund</td>\n",
       "      <td>3438</td>\n",
       "      <td>1561</td>\n",
       "      <td>110488</td>\n",
       "      <td>29233</td>\n",
       "      <td>0.264581</td>\n",
       "      <td>110.37653</td>\n",
       "      <td>354.247229</td>\n",
       "      <td>0</td>\n",
       "      <td>0</td>\n",
       "      <td>1</td>\n",
       "      <td>False</td>\n",
       "    </tr>\n",
       "  </tbody>\n",
       "</table>\n",
       "</div>"
      ],
      "text/plain": [
       "    Kommun_name  Revenue  Employee  Population  Population_University  \\\n",
       "118        Lund     3438      1561      110488                  29233   \n",
       "\n",
       "     Percent_University  Productivity  SalesIndex  Infrast  Border  cluster  \\\n",
       "118            0.264581     110.37653  354.247229        0       0        1   \n",
       "\n",
       "     has_ikea  \n",
       "118     False  "
      ]
     },
     "execution_count": 145,
     "metadata": {},
     "output_type": "execute_result"
    }
   ],
   "source": [
    "cluster2.loc[cluster2['Population'] == 110488]"
   ]
  },
  {
   "cell_type": "code",
   "execution_count": 147,
   "metadata": {},
   "outputs": [
    {
     "data": {
      "text/plain": [
       "[11217, 7153]"
      ]
     },
     "execution_count": 147,
     "metadata": {},
     "output_type": "execute_result"
    }
   ],
   "source": [
    "heapq.nlargest(2, cluster2['Revenue'])"
   ]
  },
  {
   "cell_type": "code",
   "execution_count": 148,
   "metadata": {},
   "outputs": [
    {
     "data": {
      "text/html": [
       "<div>\n",
       "<style scoped>\n",
       "    .dataframe tbody tr th:only-of-type {\n",
       "        vertical-align: middle;\n",
       "    }\n",
       "\n",
       "    .dataframe tbody tr th {\n",
       "        vertical-align: top;\n",
       "    }\n",
       "\n",
       "    .dataframe thead th {\n",
       "        text-align: right;\n",
       "    }\n",
       "</style>\n",
       "<table border=\"1\" class=\"dataframe\">\n",
       "  <thead>\n",
       "    <tr style=\"text-align: right;\">\n",
       "      <th></th>\n",
       "      <th>Kommun_name</th>\n",
       "      <th>Revenue</th>\n",
       "      <th>Employee</th>\n",
       "      <th>Population</th>\n",
       "      <th>Population_University</th>\n",
       "      <th>Percent_University</th>\n",
       "      <th>Productivity</th>\n",
       "      <th>SalesIndex</th>\n",
       "      <th>Infrast</th>\n",
       "      <th>Border</th>\n",
       "      <th>cluster</th>\n",
       "      <th>has_ikea</th>\n",
       "    </tr>\n",
       "  </thead>\n",
       "  <tbody>\n",
       "    <tr>\n",
       "      <th>117</th>\n",
       "      <td>Malmö</td>\n",
       "      <td>11217</td>\n",
       "      <td>5740</td>\n",
       "      <td>298963</td>\n",
       "      <td>50084</td>\n",
       "      <td>0.167526</td>\n",
       "      <td>97.93515</td>\n",
       "      <td>1155.785679</td>\n",
       "      <td>1</td>\n",
       "      <td>0</td>\n",
       "      <td>1</td>\n",
       "      <td>True</td>\n",
       "    </tr>\n",
       "  </tbody>\n",
       "</table>\n",
       "</div>"
      ],
      "text/plain": [
       "    Kommun_name  Revenue  Employee  Population  Population_University  \\\n",
       "117       Malmö    11217      5740      298963                  50084   \n",
       "\n",
       "     Percent_University  Productivity   SalesIndex  Infrast  Border  cluster  \\\n",
       "117            0.167526      97.93515  1155.785679        1       0        1   \n",
       "\n",
       "     has_ikea  \n",
       "117      True  "
      ]
     },
     "execution_count": 148,
     "metadata": {},
     "output_type": "execute_result"
    }
   ],
   "source": [
    "cluster2.loc[cluster2['Revenue'] == 11217]"
   ]
  },
  {
   "cell_type": "code",
   "execution_count": 149,
   "metadata": {},
   "outputs": [
    {
     "data": {
      "text/html": [
       "<div>\n",
       "<style scoped>\n",
       "    .dataframe tbody tr th:only-of-type {\n",
       "        vertical-align: middle;\n",
       "    }\n",
       "\n",
       "    .dataframe tbody tr th {\n",
       "        vertical-align: top;\n",
       "    }\n",
       "\n",
       "    .dataframe thead th {\n",
       "        text-align: right;\n",
       "    }\n",
       "</style>\n",
       "<table border=\"1\" class=\"dataframe\">\n",
       "  <thead>\n",
       "    <tr style=\"text-align: right;\">\n",
       "      <th></th>\n",
       "      <th>Kommun_name</th>\n",
       "      <th>Revenue</th>\n",
       "      <th>Employee</th>\n",
       "      <th>Population</th>\n",
       "      <th>Population_University</th>\n",
       "      <th>Percent_University</th>\n",
       "      <th>Productivity</th>\n",
       "      <th>SalesIndex</th>\n",
       "      <th>Infrast</th>\n",
       "      <th>Border</th>\n",
       "      <th>cluster</th>\n",
       "      <th>has_ikea</th>\n",
       "    </tr>\n",
       "  </thead>\n",
       "  <tbody>\n",
       "    <tr>\n",
       "      <th>9</th>\n",
       "      <td>Huddinge</td>\n",
       "      <td>7153</td>\n",
       "      <td>2374</td>\n",
       "      <td>97453</td>\n",
       "      <td>12795</td>\n",
       "      <td>0.131294</td>\n",
       "      <td>151.0015</td>\n",
       "      <td>737.036192</td>\n",
       "      <td>0</td>\n",
       "      <td>0</td>\n",
       "      <td>1</td>\n",
       "      <td>False</td>\n",
       "    </tr>\n",
       "  </tbody>\n",
       "</table>\n",
       "</div>"
      ],
      "text/plain": [
       "  Kommun_name  Revenue  Employee  Population  Population_University  \\\n",
       "9    Huddinge     7153      2374       97453                  12795   \n",
       "\n",
       "   Percent_University  Productivity  SalesIndex  Infrast  Border  cluster  \\\n",
       "9            0.131294      151.0015  737.036192        0       0        1   \n",
       "\n",
       "   has_ikea  \n",
       "9     False  "
      ]
     },
     "execution_count": 149,
     "metadata": {},
     "output_type": "execute_result"
    }
   ],
   "source": [
    "cluster2.loc[cluster2['Revenue'] == 7153]"
   ]
  },
  {
   "cell_type": "markdown",
   "metadata": {},
   "source": [
    "### Cluster Analysis 3"
   ]
  },
  {
   "cell_type": "code",
   "execution_count": 151,
   "metadata": {},
   "outputs": [
    {
     "data": {
      "text/plain": [
       "(1, 12)"
      ]
     },
     "execution_count": 151,
     "metadata": {},
     "output_type": "execute_result"
    }
   ],
   "source": [
    "cluster3.shape"
   ]
  },
  {
   "cell_type": "code",
   "execution_count": 152,
   "metadata": {},
   "outputs": [
    {
     "data": {
      "text/html": [
       "<div>\n",
       "<style scoped>\n",
       "    .dataframe tbody tr th:only-of-type {\n",
       "        vertical-align: middle;\n",
       "    }\n",
       "\n",
       "    .dataframe tbody tr th {\n",
       "        vertical-align: top;\n",
       "    }\n",
       "\n",
       "    .dataframe thead th {\n",
       "        text-align: right;\n",
       "    }\n",
       "</style>\n",
       "<table border=\"1\" class=\"dataframe\">\n",
       "  <thead>\n",
       "    <tr style=\"text-align: right;\">\n",
       "      <th></th>\n",
       "      <th>Kommun_name</th>\n",
       "      <th>Revenue</th>\n",
       "      <th>Employee</th>\n",
       "      <th>Population</th>\n",
       "      <th>Population_University</th>\n",
       "      <th>Percent_University</th>\n",
       "      <th>Productivity</th>\n",
       "      <th>SalesIndex</th>\n",
       "      <th>Infrast</th>\n",
       "      <th>Border</th>\n",
       "      <th>cluster</th>\n",
       "      <th>has_ikea</th>\n",
       "    </tr>\n",
       "  </thead>\n",
       "  <tbody>\n",
       "    <tr>\n",
       "      <th>19</th>\n",
       "      <td>Stockholm</td>\n",
       "      <td>32897</td>\n",
       "      <td>18795</td>\n",
       "      <td>847073</td>\n",
       "      <td>191585</td>\n",
       "      <td>0.226173</td>\n",
       "      <td>87.7178</td>\n",
       "      <td>3389.665819</td>\n",
       "      <td>1</td>\n",
       "      <td>0</td>\n",
       "      <td>2</td>\n",
       "      <td>True</td>\n",
       "    </tr>\n",
       "  </tbody>\n",
       "</table>\n",
       "</div>"
      ],
      "text/plain": [
       "   Kommun_name  Revenue  Employee  Population  Population_University  \\\n",
       "19   Stockholm    32897     18795      847073                 191585   \n",
       "\n",
       "    Percent_University  Productivity   SalesIndex  Infrast  Border  cluster  \\\n",
       "19            0.226173       87.7178  3389.665819        1       0        2   \n",
       "\n",
       "    has_ikea  \n",
       "19      True  "
      ]
     },
     "execution_count": 152,
     "metadata": {},
     "output_type": "execute_result"
    }
   ],
   "source": [
    "cluster3.head()"
   ]
  }
 ],
 "metadata": {
  "kernelspec": {
   "display_name": "Python 3",
   "language": "python",
   "name": "python3"
  },
  "language_info": {
   "codemirror_mode": {
    "name": "ipython",
    "version": 3
   },
   "file_extension": ".py",
   "mimetype": "text/x-python",
   "name": "python",
   "nbconvert_exporter": "python",
   "pygments_lexer": "ipython3",
   "version": "3.8.5"
  }
 },
 "nbformat": 4,
 "nbformat_minor": 4
}
